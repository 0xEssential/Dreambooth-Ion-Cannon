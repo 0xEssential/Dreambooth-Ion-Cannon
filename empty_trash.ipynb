{
  cells: [
    {
      cell_type: 'code',
      execution_count: null,
      metadata: {},
      outputs: [],
      source: [
        "!rm -r ~/.local/share/Trash"
      ],
    },
  ];
}
